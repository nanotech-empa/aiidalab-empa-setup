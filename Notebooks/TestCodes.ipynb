{
 "cells": [
  {
   "cell_type": "code",
   "execution_count": 3,
   "id": "3ae848b1",
   "metadata": {},
   "outputs": [],
   "source": [
    "import re"
   ]
  },
  {
   "cell_type": "code",
   "execution_count": 4,
   "id": "49a62b5a",
   "metadata": {},
   "outputs": [],
   "source": [
    "def normalize_text(text):\n",
    "    \"\"\"\n",
    "    - Removes extra empty lines.\n",
    "    - Ensures a maximum of one space between words (but keeps line breaks).\n",
    "    \"\"\"\n",
    "    if text is None:\n",
    "        return \"\"  # Treat None as empty string\n",
    "\n",
    "    # Normalize each line: strip leading/trailing spaces and reduce multiple spaces to one\n",
    "    lines = [re.sub(r\"\\s+\", \" \", line.strip()) for line in text.splitlines() if line.strip()]\n",
    "\n",
    "    # Join lines back together while preserving newlines\n",
    "    return \"\\n\".join(lines)"
   ]
  },
  {
   "cell_type": "code",
   "execution_count": 5,
   "id": "d0e6a488",
   "metadata": {},
   "outputs": [
    {
     "data": {
      "text/plain": [
       "'#SBATCH --uenv={stm_uenv}\\n#SBATCH --view=default\\n# set environment\\nexport MPICH_MALLOC_FALLBACK=1\\nexport OMP_NUM_THREADS=$((SLURM_CPUS_PER_TASK - 1))\\nexport MPICH_GPU_SUPPORT_ENABLED=0\\nulimit -s unlimited'"
      ]
     },
     "execution_count": 5,
     "metadata": {},
     "output_type": "execute_result"
    }
   ],
   "source": [
    "normalize_text(\"\"\"\n",
    "#SBATCH --uenv={stm_uenv}\n",
    "#SBATCH --view=default\n",
    "# set environment\n",
    "export MPICH_MALLOC_FALLBACK=1\n",
    "export OMP_NUM_THREADS=$((SLURM_CPUS_PER_TASK - 1))\n",
    "export MPICH_GPU_SUPPORT_ENABLED=0\n",
    "ulimit -s unlimited\n",
    "\"\"\")"
   ]
  },
  {
   "cell_type": "code",
   "execution_count": null,
   "id": "b6f5c42f",
   "metadata": {},
   "outputs": [],
   "source": []
  }
 ],
 "metadata": {
  "kernelspec": {
   "display_name": "Python 3 (ipykernel)",
   "language": "python",
   "name": "python3"
  },
  "language_info": {
   "codemirror_mode": {
    "name": "ipython",
    "version": 3
   },
   "file_extension": ".py",
   "mimetype": "text/x-python",
   "name": "python",
   "nbconvert_exporter": "python",
   "pygments_lexer": "ipython3",
   "version": "3.9.13"
  }
 },
 "nbformat": 4,
 "nbformat_minor": 5
}
