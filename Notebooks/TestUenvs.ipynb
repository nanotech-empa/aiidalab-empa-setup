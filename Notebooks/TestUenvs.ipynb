{
 "cells": [
  {
   "cell_type": "code",
   "execution_count": null,
   "id": "12084f0c",
   "metadata": {},
   "outputs": [],
   "source": [
    "from utils.control import *"
   ]
  },
  {
   "cell_type": "code",
   "execution_count": null,
   "id": "018ca765",
   "metadata": {},
   "outputs": [],
   "source": [
    "uenvs=[('daint.alps.cscs.ch','critic2/1.2:1771513358')]"
   ]
  },
  {
   "cell_type": "code",
   "execution_count": null,
   "id": "60df115c",
   "metadata": {},
   "outputs": [],
   "source": [
    "manage_uenv_images(uenvs)"
   ]
  }
 ],
 "metadata": {
  "kernelspec": {
   "display_name": "Python 3 (ipykernel)",
   "language": "python",
   "name": "python3"
  },
  "language_info": {
   "codemirror_mode": {
    "name": "ipython",
    "version": 3
   },
   "file_extension": ".py",
   "mimetype": "text/x-python",
   "name": "python",
   "nbconvert_exporter": "python",
   "pygments_lexer": "ipython3",
   "version": "3.9.13"
  }
 },
 "nbformat": 4,
 "nbformat_minor": 5
}
