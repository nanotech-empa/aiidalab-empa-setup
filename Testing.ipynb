{
 "cells": [
  {
   "cell_type": "code",
   "execution_count": 1,
   "id": "c2b206f8",
   "metadata": {},
   "outputs": [],
   "source": [
    "import ipywidgets as ipw\n",
    "import subprocess"
   ]
  },
  {
   "cell_type": "code",
   "execution_count": 2,
   "id": "f33e7fb0",
   "metadata": {},
   "outputs": [],
   "source": [
    "from utils.control import *"
   ]
  },
  {
   "cell_type": "code",
   "execution_count": null,
   "id": "074b393e",
   "metadata": {},
   "outputs": [],
   "source": [
    "msg,updates_needed,config = check_for_updates('s1267')\n",
    "#tutto = check_for_updates()"
   ]
  },
  {
   "cell_type": "code",
   "execution_count": null,
   "id": "5d212156",
   "metadata": {},
   "outputs": [],
   "source": [
    " msg"
   ]
  },
  {
   "cell_type": "code",
   "execution_count": null,
   "id": "dc22515c",
   "metadata": {},
   "outputs": [],
   "source": [
    "config"
   ]
  },
  {
   "cell_type": "code",
   "execution_count": null,
   "id": "4908694d",
   "metadata": {},
   "outputs": [],
   "source": [
    "updates_needed"
   ]
  },
  {
   "cell_type": "code",
   "execution_count": null,
   "id": "c309ac39",
   "metadata": {},
   "outputs": [],
   "source": [
    "cscs_username=\"cpi\"\n",
    "remotehost='daint.alps.cscs.ch'\n",
    "alps_files=\"\"\n",
    "conda_init = f\"source /users/{cscs_username}/miniconda3/bin/activate\"\n",
    "commands = [\n",
    "    [\"ssh\", remotehost, \"if [ ! -f Miniconda3-latest-Linux-aarch64.sh ]; then wget https://repo.anaconda.com/miniconda/Miniconda3-latest-Linux-aarch64.sh; fi\"],\n",
    "    [\"ssh\", remotehost, f\"if [ ! -d /users/{cscs_username}/miniconda3 ]; then bash Miniconda3-latest-Linux-aarch64.sh -b -p /users/{cscs_username}/miniconda3; fi\"],\n",
    "    [\"scp\", f\"{alps_files}bashrc_template\", f\"{remotehost}:/users/{cscs_username}\"],\n",
    "    [\"ssh\", remotehost, \"mv .bashrc .old_bashrc\"],\n",
    "    [\"ssh\", remotehost, \"mv bashrc_template .bashrc\"],\n",
    "    [\"ssh\", remotehost, f\"bash -l -c '{conda_init} && conda env list | grep -q \\\"^phonopy \\\" && echo \\\"Environment exists\\\" || conda create -n phonopy -c conda-forge phonopy seekpath'\"],\n",
    "]\n",
    "output, success = run_command(commands[-1])\n",
    "\n",
    "if success:\n",
    "    print(\"✅ Command executed successfully\")\n",
    "else:\n",
    "    print(f\"❌ Error: {output}\")\n"
   ]
  },
  {
   "cell_type": "code",
   "execution_count": 7,
   "id": "37bf02c6",
   "metadata": {},
   "outputs": [],
   "source": [
    "def load_yaml_commands(file_path=\"/home/jovyan/opt/aiidalab-alps-files/config.yml\"):\n",
    "    \"\"\"Load custom commands from a YAML file.\"\"\"\n",
    "    with open(file_path, \"r\") as file:\n",
    "        return yaml.safe_load(file)\n",
    "def execute_custom_commands(cscs_username, remotehost, qe_uenv=\"\", python_version=\"\"):\n",
    "    \"\"\"Execute all commands from custom_commands in the YAML file.\"\"\"\n",
    "    yaml_commands = load_yaml_commands()\n",
    "    \n",
    "    if \"custom_commands\" not in yaml_commands:\n",
    "        print(\"❌ No custom commands found in YAML file. Exiting.\")\n",
    "        return False\n",
    "    \n",
    "    variables = yaml_commands[\"custom_commands\"].get(\"variables\", {})\n",
    "    conda_init = variables.get(\"conda_init\", \"source /users/{cscs_username}/miniconda3/bin/activate\").format(cscs_username=cscs_username)\n",
    "    config_files = variables.get(\"config_files\")\n",
    "    # Execute environment setup commands\n",
    "    env_setup_commands = yaml_commands[\"custom_commands\"].get(\"env_setup_commands\", {})\n",
    "    for setup_name, commands in env_setup_commands.items():\n",
    "        for entry in commands:\n",
    "            formatted_command = entry[\"command\"].format(\n",
    "                cscs_username=cscs_username,\n",
    "                remotehost=remotehost,\n",
    "                qe_uenv=qe_uenv,\n",
    "                python_version=python_version,\n",
    "                conda_init=conda_init,\n",
    "                config_files=config_files\n",
    "            )\n",
    "            ssh_command = [\"ssh\", remotehost, formatted_command] if entry[\"type\"] == \"ssh\" else formatted_command.split()\n",
    "            output, success = run_command(ssh_command)\n",
    "            if not success:\n",
    "                print(f\"❌ Failed to execute: {formatted_command}. Exiting, ask for help.\")\n",
    "                return False\n",
    "    \n",
    "    # Execute special setup commands\n",
    "    special_commands = yaml_commands[\"custom_commands\"].get(\"special_commands\", {})\n",
    "    for setup_name, commands in special_commands.items():\n",
    "        for entry in commands:\n",
    "            if isinstance(entry, dict):\n",
    "                command_type = entry.get(\"type\", \"shell\")\n",
    "                command = entry.get(\"command\", \"\")\n",
    "            else:\n",
    "                command_type = \"shell\"\n",
    "                command = entry\n",
    "\n",
    "            formatted_command = command.format(\n",
    "                cscs_username=cscs_username,\n",
    "                remotehost=remotehost,\n",
    "                qe_uenv=qe_uenv,\n",
    "                python_version=python_version,\n",
    "                conda_init=conda_init,\n",
    "                config_files=config_files\n",
    "            )\n",
    "            \n",
    "            ssh_command = [\"ssh\", remotehost, formatted_command] if command_type == \"ssh\" else formatted_command.split()\n",
    "            output, success = run_command(ssh_command)\n",
    "            if not success:\n",
    "                print(f\"❌ Failed to execute: {formatted_command}. Exiting, ask for help.\")\n",
    "                return False\n",
    "    \n",
    "    return True"
   ]
  },
  {
   "cell_type": "code",
   "execution_count": 8,
   "id": "34d49e64",
   "metadata": {},
   "outputs": [
    {
     "name": "stdout",
     "output_type": "stream",
     "text": [
      "\n",
      "if [ ! -f Miniconda3-latest-Linux-aarch64.sh ]; then wget https://repo.anaconda.com/miniconda/Miniconda3-latest-Linux-aarch64.sh; fi\n",
      "\n",
      "\n",
      "if [ ! -d /users/{cscs_username}/miniconda3 ]; then bash Miniconda3-latest-Linux-aarch64.sh -b -p /users/{cscs_username}/miniconda3; fi\n",
      "\n",
      "\n",
      "scp {config_files}/bashrc_template {remotehost}:/users/{cscs_username}\n",
      "\n",
      "\n",
      "mv .bashrc .old_bashrc\n",
      "\n",
      "\n",
      "mv bashrc_template .bashrc\n",
      "\n",
      "\n",
      "{conda_init} && conda env list | grep -q \"^phonopy \" && echo \"Environment exists\" || conda create -n phonopy -c conda-forge phonopy seekpath\n",
      "\n",
      "\n",
      "if [ ! -d 'critic2' ]; then git clone https://github.com/aoterodelaroza/critic2.git; fi\n",
      "\n",
      "\n",
      "if [ ! -f /users/{cscs_username}/critic2/build/src/critic2 ]; then cd critic2 && mkdir -p build && cd build && uenv run {qe_uenv} cmake .. && uenv run {qe_uenv} make; fi\n",
      "\n",
      "\n",
      "ls /users/{cscs_username}/critic2/build/src/critic2\n",
      "\n"
     ]
    },
    {
     "data": {
      "text/plain": [
       "True"
      ]
     },
     "execution_count": 8,
     "metadata": {},
     "output_type": "execute_result"
    }
   ],
   "source": [
    "execute_custom_commands(\"cpi\", \"daint.alps.cscs.ch\", qe_uenv=\"quantumespresso/v7.4:v2\", python_version=\"3.9.13\")"
   ]
  },
  {
   "cell_type": "code",
   "execution_count": null,
   "id": "d8b1f949",
   "metadata": {},
   "outputs": [],
   "source": []
  }
 ],
 "metadata": {
  "kernelspec": {
   "display_name": "Python 3 (ipykernel)",
   "language": "python",
   "name": "python3"
  },
  "language_info": {
   "codemirror_mode": {
    "name": "ipython",
    "version": 3
   },
   "file_extension": ".py",
   "mimetype": "text/x-python",
   "name": "python",
   "nbconvert_exporter": "python",
   "pygments_lexer": "ipython3",
   "version": "3.9.13"
  }
 },
 "nbformat": 4,
 "nbformat_minor": 5
}
