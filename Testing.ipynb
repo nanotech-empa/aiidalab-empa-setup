{
 "cells": [
  {
   "cell_type": "code",
   "execution_count": 1,
   "id": "c2b206f8",
   "metadata": {},
   "outputs": [],
   "source": [
    "import ipywidgets as ipw\n",
    "import subprocess"
   ]
  },
  {
   "cell_type": "code",
   "execution_count": 2,
   "id": "f33e7fb0",
   "metadata": {},
   "outputs": [],
   "source": [
    "from utils.control import *"
   ]
  },
  {
   "cell_type": "code",
   "execution_count": 3,
   "id": "074b393e",
   "metadata": {},
   "outputs": [],
   "source": [
    "msg,updates_needed,config = check_for_updates('s1267')\n",
    "#tutto = check_for_updates()"
   ]
  },
  {
   "cell_type": "code",
   "execution_count": 4,
   "id": "5d212156",
   "metadata": {},
   "outputs": [
    {
     "data": {
      "text/plain": [
       "\"✅ The .ssh/config seems to be OK.<br>✅ Active AiiDA computers: ✅daint.alps_s1267<br>✅localhost<br>✅⬜ Not active AiiDA computers: ✅⬜202503070709_daint.alps_s1267<br>✅⬜Used_till_202502100831_daint.alps<br>✅⬜202503070700_daint.alps_s1267<br>✅⬜202503061611_daint.alps_s1267<br>✅⬜Used_till_202502100724_daint.alps<br>✅⬜Used_till_202502120713_daint.alps<br>✅⬜202503061643_daint.alps_s1267<br>✅⬜Used_till_202502120922_daint.alps<br>✅⬜Used_till_202502091226_daint.alps<br>✅⬜Used_till_202502120836_daint.alps<br>✅⬜Used_till_202502100738_daint.alps<br>✅⬜daint.alps<br>✅⬜202503070725_daint.alps_s1267<br>✅⬜202503070715_daint.alps_s1267<br>✅ Active AiiDA codes:<br> ✅ stm@daint.alps  PK: 15191<br>✅ pw-7.4:v2@daint.alps  PK: 15185<br>✅ projwfc-7.4:v2@daint.alps_s1267@daint.alps  PK: 15213<br>✅ python-py39@daint.alps_s1267@daint.alps  PK: 15200<br>✅ projwfc-7.4:v2@daint.alps_s1267@daint.alps  PK: 15246<br>✅ pw-7.4:v2@daint.alps_s1267@daint.alps  PK: 15201<br>✅ pw2gw-7.2@localhost  PK: 1828<br>✅ open_grid-7.2@localhost  PK: 1825<br>✅ cp2k-2024.3:v2@daint.alps_s1267@daint.alps  PK: 15208<br>✅ python-py39@daint.alps  PK: 15182<br>✅ epw-7.2@localhost  PK: 1822<br>✅ phonopy@daint.alps_s1267@daint.alps  PK: 15278<br>✅ python-py39@daint.alps_s1267@daint.alps  PK: 15210<br>✅ dos-7.2@localhost  PK: 1820<br>✅ critic2@daint.alps_s1267@daint.alps  PK: 15270<br>✅ critic2@daint.alps_s1267@daint.alps  PK: 15217<br>✅ pw@daint.alps  PK: 15193<br>✅ cp-7.2@localhost  PK: 1821<br>✅ phonopy@daint.alps_s1267@daint.alps  PK: 15268<br>✅ overlap-1.5.0@daint.alps_s1267@daint.alps  PK: 15206<br>✅ projwfc-7.4:v2@daint.alps_s1267@daint.alps  PK: 15256<br>✅ pp-7.4:v2@daint.alps  PK: 15186<br>✅ dos-7.4:v2@daint.alps  PK: 15188<br>✅ dos@daint.alps  PK: 15196<br>✅ python-py39@daint.alps_s1267@daint.alps  PK: 15253<br>✅ dos-7.4:v2@daint.alps_s1267@daint.alps  PK: 15257<br>✅ phonopy@daint.alps_s1267@daint.alps  PK: 15215<br>✅ projwfc-7.4:v2@daint.alps_s1267@daint.alps  PK: 15276<br>✅ projwfc-7.4:v2@daint.alps_s1267@daint.alps  PK: 15266<br>✅ cp2k-2024.3:v2@daint.alps_s1267@daint.alps  PK: 15281<br>✅ phonopy@daint.alps_s1267@daint.alps  PK: 15258<br>✅ neb-7.2@localhost  PK: 1824<br>✅ pw-7.4:v2@daint.alps_s1267@daint.alps  PK: 15211<br>✅ projwfc-7.4:v2@daint.alps_s1267@daint.alps  PK: 15203<br>✅ cp2k-2024.3:v2@daint.alps  PK: 15167<br>✅ hp-7.4@localhost  PK: 10260<br>✅ stm-1.5.0@daint.alps_s1267@daint.alps  PK: 15272<br>✅ dos-7.4@localhost  PK: 10248<br>✅ ph-7.4@localhost  PK: 10254<br>✅ overlap-1.5.0@daint.alps_s1267@daint.alps  PK: 15216<br>✅ phonopy@daint.alps_s1267@daint.alps  PK: 15248<br>✅ matdyn-7.4@localhost  PK: 10251<br>✅ stm@localhost  PK: 2<br>✅ dos-7.4:v2@daint.alps_s1267@daint.alps  PK: 15247<br>✅ stm-1.5.0@daint.alps_s1267@daint.alps  PK: 15209<br>✅ projwfc-7.4:v2@daint.alps  PK: 15187<br>✅ critic2@daint.alps_s1267@daint.alps  PK: 15207<br>✅ projwfc@daint.alps  PK: 15195<br>✅ pw-7.4:v2@daint.alps_s1267@daint.alps  PK: 15244<br>✅ pp-7.2@localhost  PK: 1827<br>✅ critic2@daint.alps  PK: 15190<br>✅ overlap@daint.alps  PK: 15197<br>✅ epw-7.4@localhost  PK: 10250<br>✅ dos-7.4:v2@daint.alps_s1267@daint.alps  PK: 15277<br>✅ pp-7.4@localhost  PK: 10255<br>✅ phonopy@daint.alps_s1267@daint.alps  PK: 15205<br>✅ q2r-7.4@localhost  PK: 10258<br>✅ pp@daint.alps  PK: 15194<br>✅ stm-1.5.0@daint.alps_s1267@daint.alps  PK: 15242<br>✅ overlap-1.5.0@daint.alps_s1267@daint.alps  PK: 15249<br>✅ python@daint.alps  PK: 15192<br>✅ dos-7.4:v2@daint.alps_s1267@daint.alps  PK: 15204<br>✅ overlap-1.5.0@daint.alps_s1267@daint.alps  PK: 15269<br>✅ overlap-1.5.0@daint.alps_s1267@daint.alps  PK: 15279<br>✅ cp2k@localhost  PK: 1<br>✅ matdyn-7.2@localhost  PK: 1823<br>✅ pw-7.4:v2@daint.alps_s1267@daint.alps  PK: 15274<br>✅ pp-7.4:v2@daint.alps_s1267@daint.alps  PK: 15245<br>✅ pw-7.4@localhost  PK: 10246<br>✅ critic2@daint.alps_s1267@daint.alps  PK: 15250<br>✅ xspectra-7.4@localhost  PK: 10259<br>✅ pw2wannier90-7.4@localhost  PK: 10257<br>✅ overlap-1.5.0@daint.alps  PK: 15184<br>✅ projwfc-7.4@localhost  PK: 10247<br>✅ cp-7.4@localhost  PK: 10249<br>✅ pw2wannier90-7.2@localhost  PK: 1829<br>✅ cp2k-2024.3:v2@daint.alps_s1267@daint.alps  PK: 15271<br>✅ q2r-7.2@localhost  PK: 1830<br>✅ cp2k-2024.3:v2@daint.alps_s1267@daint.alps  PK: 15251<br>✅ pw2gw-7.4@localhost  PK: 10256<br>✅ stm-1.5.0@daint.alps_s1267@daint.alps  PK: 15252<br>✅ pp-7.4:v2@daint.alps_s1267@daint.alps  PK: 15255<br>✅ pp-7.4:v2@daint.alps_s1267@daint.alps  PK: 15212<br>✅ pp-7.4:v2@daint.alps_s1267@daint.alps  PK: 15275<br>✅ stm-1.5.0@daint.alps_s1267@daint.alps  PK: 15199<br>✅ projwfc-7.2@localhost  PK: 1819<br>✅ python-py39@daint.alps_s1267@daint.alps  PK: 15263<br>✅ phonopy@daint.alps  PK: 15189<br>✅ python-py39@daint.alps_s1267@daint.alps  PK: 15273<br>✅ dos-7.4:v2@daint.alps_s1267@daint.alps  PK: 15214<br>✅ critic2@daint.alps_s1267@daint.alps  PK: 15260<br>✅ pw-7.4:v2@daint.alps_s1267@daint.alps  PK: 15264<br>✅ xspectra-7.2@localhost  PK: 1831<br>✅ neb-7.4@localhost  PK: 10252<br>✅ pp-7.4:v2@daint.alps_s1267@daint.alps  PK: 15202<br>✅ pw-7.4:v2@daint.alps_s1267@daint.alps  PK: 15254<br>✅ ph-7.2@localhost  PK: 1826<br>✅ python-py39@daint.alps_s1267@daint.alps  PK: 15243<br>✅ stm-1.5.0@daint.alps  PK: 15183<br>✅ cp2k-2024.3:v2@daint.alps_s1267@daint.alps  PK: 15218<br>✅ cp2k@daint.alps  PK: 15198<br>✅ stm-1.5.0@daint.alps_s1267@daint.alps  PK: 15262<br>✅ dos-7.4:v2@daint.alps_s1267@daint.alps  PK: 15267<br>✅ overlap-1.5.0@daint.alps_s1267@daint.alps  PK: 15259<br>✅ open_grid-7.4@localhost  PK: 10253<br>✅ critic2@daint.alps_s1267@daint.alps  PK: 15280<br>✅ pp-7.4:v2@daint.alps_s1267@daint.alps  PK: 15265<br>✅ cp2k-2024.3:v2@daint.alps_s1267@daint.alps  PK: 15261<br>✅ hp-7.2@localhost  PK: 1832<br>✅ pw-7.2@localhost  PK: 1818<br>✅⬜ Not active AiiDA codes:<br> ✅⬜Used_till_202502101830stm-1.5.0@Used_till_202502120713_daint.alps PK: 14434<br>✅⬜Used_till_202503040820_python-py39@daint.alps PK: 15180<br>✅⬜Used_till_202503040814_overlap-1.5.0@daint.alps PK: 15169<br>✅⬜projwfc-7.4:v2@Used_till_202502100831_daint.alps PK: 14430<br>✅⬜critic2@Used_till_202502120836_daint.alps PK: 15156<br>✅⬜cp2k-2024.3:v2@Used_till_202502120922_daint.alps PK: 15157<br>✅⬜phonopy@Used_till_202502120922_daint.alps PK: 15164<br>✅⬜dos-7.4:v2@Used_till_202502091226_daint.alps PK: 14423<br>✅⬜projwfc-7.4:v2@Used_till_202502091226_daint.alps PK: 14422<br>✅⬜pp-7.4:v2@Used_till_202502120713_daint.alps PK: 14437<br>✅⬜overlap-1.5.0@Used_till_202502120922_daint.alps PK: 15159<br>✅⬜dos-7.4:v2@Used_till_202502120713_daint.alps PK: 14439<br>✅⬜stm-1.5.0@Used_till_202502120922_daint.alps PK: 15158<br>✅⬜dos-7.4:v2@Used_till_202502100831_daint.alps PK: 14431<br>✅⬜stm@Used_till_202502120713_daint.alps PK: 14432<br>✅⬜dos-7.4:v2@Used_till_202502120836_daint.alps PK: 15153<br>✅⬜dos-7.4:v2@Used_till_202502120922_daint.alps PK: 15163<br>✅⬜Used_till_202503061524_stm-1.5.0@daint.alps PK: 15177<br>✅⬜pp-7.4:v2@Used_till_202502100831_daint.alps PK: 14429<br>✅⬜pp-7.4:v2@Used_till_202502120922_daint.alps PK: 15161<br>✅⬜cp2k-2024.3:v2@Used_till_202502091226_daint.alps PK: 14418<br>✅⬜Used_till_202502111545_phonopy@Used_till_202502120713_daint.alps PK: 15127<br>✅⬜pp-7.4:v2@Used_till_202502120836_daint.alps PK: 15151<br>✅⬜Used_till_202503061531_critic2@daint.alps PK: 15181<br>✅⬜Used_till_202503061524_pp-7.4:v2@daint.alps PK: 15171<br>✅⬜Used_till_202503061524_overlap-1.5.0@daint.alps PK: 15178<br>✅⬜pw-7.4:v2@Used_till_202502120922_daint.alps PK: 15160<br>✅⬜overlap-1.5.0@Used_till_202502091226_daint.alps PK: 14424<br>✅⬜pw-7.4:v2@Used_till_202502091226_daint.alps PK: 14420<br>✅⬜Used_till_202503061524_phonopy@daint.alps PK: 15179<br>✅⬜pp-7.4:v2@Used_till_202502091226_daint.alps PK: 14421<br>✅⬜projwfc-7.4:v2@Used_till_202502120836_daint.alps PK: 15152<br>✅⬜pw-7.4:v2@Used_till_202502120713_daint.alps PK: 14436<br>✅⬜pw-7.4:v2@Used_till_202502100831_daint.alps PK: 14428<br>✅⬜critic2@Used_till_202502120922_daint.alps PK: 15166<br>✅⬜stm-1.5.0@Used_till_202502120836_daint.alps PK: 15148<br>✅⬜cp2k-2024.3:v2@Used_till_202502120713_daint.alps PK: 14433<br>✅⬜stm-1.5.0@Used_till_202502100831_daint.alps PK: 14426<br>✅⬜Used_till_202503061524_dos-7.4:v2@daint.alps PK: 15173<br>✅⬜Used_till_202503040814_phonopy@daint.alps PK: 15174<br>✅⬜python-py39@Used_till_202502120836_daint.alps PK: 15155<br>✅⬜phonopy@Used_till_202502120713_daint.alps PK: 15128<br>✅⬜stm-1.5.0@Used_till_202502091226_daint.alps PK: 14419<br>✅⬜python-py39@Used_till_202502120922_daint.alps PK: 15165<br>✅⬜cp2k-2024.3:v2@Used_till_202502100831_daint.alps PK: 14425<br>✅⬜Used_till_202503061524_pw-7.4:v2@daint.alps PK: 15170<br>✅⬜phonopy@Used_till_202502120836_daint.alps PK: 15154<br>✅⬜projwfc-7.4:v2@Used_till_202502120713_daint.alps PK: 14438<br>✅⬜overlap-1.5.0@Used_till_202502120836_daint.alps PK: 15149<br>✅⬜overlap-1.5.0@Used_till_202502100831_daint.alps PK: 14427<br>✅⬜Used_till_202503061524_projwfc-7.4:v2@daint.alps PK: 15172<br>✅⬜overlap-1.5.0@Used_till_202502120713_daint.alps PK: 14780<br>✅⬜Used_till_202503040814_stm-1.5.0@daint.alps PK: 15168<br>✅⬜projwfc-7.4:v2@Used_till_202502120922_daint.alps PK: 15162<br>✅⬜cp2k-2024.3:v2@Used_till_202502120836_daint.alps PK: 15147<br>✅⬜Used_till_202502101937_overlap-1.5.0@Used_till_202502120713_daint.alps PK: 14435<br>✅⬜pw-7.4:v2@Used_till_202502120836_daint.alps PK: 15150<br>✅⬜Used_till_202503040814_critic2@daint.alps PK: 15176<br>✅⬜Used_till_202503040814_python-py39@daint.alps PK: 15175<br>✅⬜stm-1.5.0@Used_till_202502120713_daint.alps PK: 14675<br>⬜ Computer 'daint.alps_s1267' is already installed in AiiDA, checking for its configuration.<br>⚠️ **Setup Differences:**<br>⬜ Code stm-1.5.0@daint.alps_s1267 will be installed after installation of daint.alps_s1267. No need to rename.<br>⬜ Code python-py39@daint.alps_s1267 will be installed after installation of daint.alps_s1267. No need to rename.<br>⬜ Code pw-7.4:v2@daint.alps_s1267 will be installed after installation of daint.alps_s1267. No need to rename.<br>⬜ Code pp-7.4:v2@daint.alps_s1267 will be installed after installation of daint.alps_s1267. No need to rename.<br>⬜ Code projwfc-7.4:v2@daint.alps_s1267 will be installed after installation of daint.alps_s1267. No need to rename.<br>⬜ Code dos-7.4:v2@daint.alps_s1267 will be installed after installation of daint.alps_s1267. No need to rename.<br>⬜ Code phonopy@daint.alps_s1267 will be installed after installation of daint.alps_s1267. No need to rename.<br>⬜ Code overlap-1.5.0@daint.alps_s1267 will be installed after installation of daint.alps_s1267. No need to rename.<br>⬜ Code critic2@daint.alps_s1267 will be installed after installation of daint.alps_s1267. No need to rename.<br>⬜ Code cp2k-2024.3:v2@daint.alps_s1267 will be installed after installation of daint.alps_s1267. No need to rename.<br>\""
      ]
     },
     "execution_count": 4,
     "metadata": {},
     "output_type": "execute_result"
    }
   ],
   "source": [
    " msg"
   ]
  },
  {
   "cell_type": "code",
   "execution_count": 5,
   "id": "dc22515c",
   "metadata": {},
   "outputs": [
    {
     "data": {
      "text/plain": [
       "{'python_version': '3.9.13',\n",
       " 'new_host_label': 'daint.alps',\n",
       " 'remotehost': 'daint.alps.cscs.ch',\n",
       " 'proxy': 'ela.cscs.ch',\n",
       " 'grants': {'daint.alps': ['s1267', 's1276', 's1295'], 'tigu': ['free']},\n",
       " 'computers': {'daint.alps': {'setup': {'description': 'daint.alps at CSCS',\n",
       "    'hostname': 'daint.alps.cscs.ch',\n",
       "    'label': 'daint.alps',\n",
       "    'mpiprocs_per_machine': 256,\n",
       "    'mpirun_command': 'srun --cpu-bind=socket /users/cscsusername/bin/mps-wrapper.sh',\n",
       "    'prepend_text': '#SBATCH --ntasks-per-core=1\\n#SBATCH --hint=nomultithread\\n#SBATCH --no-requeue\\n#SBATCH --account=cscsaccount\\n',\n",
       "    'scheduler': 'core.slurm',\n",
       "    'shebang': '#!/bin/bash -l',\n",
       "    'transport': 'core.ssh',\n",
       "    'use_double_quotes': False,\n",
       "    'work_dir': '/capstor/scratch/cscs/{username}/aiida/',\n",
       "    'default_memory_per_machine': 268435456},\n",
       "   'config': {'allow_agent': True,\n",
       "    'compress': True,\n",
       "    'gss_auth': False,\n",
       "    'gss_deleg_creds': False,\n",
       "    'gss_host': 'daint.alps.cscs.ch',\n",
       "    'gss_kex': False,\n",
       "    'key_filename': '/home/jovyan/.ssh/cscs-key',\n",
       "    'key_policy': 'RejectPolicy',\n",
       "    'load_system_host_keys': True,\n",
       "    'look_for_keys': True,\n",
       "    'port': 22,\n",
       "    'proxy_command': '',\n",
       "    'proxy_jump': 'ela.cscs.ch',\n",
       "    'safe_interval': 30.0,\n",
       "    'timeout': 60,\n",
       "    'use_login_shell': True,\n",
       "    'username': 'cscsusername'}}},\n",
       " 'ssh_config': {'daint.alps.cscs.ch': {'hostname': 'daint.alps.cscs.ch',\n",
       "   'user': 'cscsusername',\n",
       "   'port': 22,\n",
       "   'proxy_jump': 'ela.cscs.ch',\n",
       "   'identity_file': '/home/jovyan/.ssh/cscs-key',\n",
       "   'server_alive_interval': 5},\n",
       "  'ela.cscs.ch': {'hostname': 'ela.cscs.ch',\n",
       "   'user': 'cscsusername',\n",
       "   'port': 22,\n",
       "   'identity_file': '/home/jovyan/.ssh/cscs-key'}},\n",
       " 'bashrc': '# Sample .bashrc for SuSE Linux\\n# Copyright (c) SuSE GmbH Nuernberg\\n\\n# There are 3 different types of shells in bash: the login shell, normal shell\\n# and interactive shell. Login shells read ~/.profile and interactive shells\\n# read ~/.bashrc; in our setup, /etc/profile sources ~/.bashrc - thus all\\n# settings made here will also take effect in a login shell.\\n#\\n# NOTE: It is recommended to make language settings in ~/.profile rather than\\n# here, since multilingual X sessions would not work properly if LANG is over-\\n# ridden in every subshell.\\n\\n# Some applications read the EDITOR variable to determine your favourite text\\n# editor. So uncomment the line below and enter the editor of your choice :-)\\n#export EDITOR=/usr/bin/vim\\n#export EDITOR=/usr/bin/mcedit\\n\\n# For some news readers it makes sense to specify the NEWSSERVER variable here\\n#export NEWSSERVER=your.news.server\\n\\n# If you want to use a Palm device with Linux, uncomment the two lines below.\\n# For some (older) Palm Pilots, you might need to set a lower baud rate\\n# e.g. 57600 or 38400; lowest is 9600 (very slow!)\\n#\\n#export PILOTPORT=/dev/pilot\\n#export PILOTRATE=115200\\n\\ntest -s ~/.alias && . ~/.alias || true\\n\\n# >>> conda initialize >>>\\n# !! Contents within this block are managed by conda init !!\\n__conda_setup=\"\"\\nif [ 126 -eq 0 ]; then\\n    eval \"\"\\nelse\\n    if [ -f /users/cscsusername/miniconda3/etc/profile.d/conda.sh ]; then\\n        . /users/cscsusername/miniconda3/etc/profile.d/conda.sh\\n    else\\n        export PATH=/users/cscsusername/miniconda3/bin:/opt/conda/bin:/usr/local/sbin:/usr/local/bin:/usr/sbin:/usr/bin:/sbin:/bin:/home/jovyan/.local/bin\\n    fi\\nfi\\nunset __conda_setup\\n# <<< conda initialize <<<\\n',\n",
       " 'codes': {'stm': {'append_text': ' ',\n",
       "   'computer': 'daint.alps',\n",
       "   'default_calc_job_plugin': 'nanotech_empa.stm',\n",
       "   'description': 'stm 1.5.0:1658742098 on daint.alps from https://github.com/nanotech-empa/cp2k-spm-tools.git',\n",
       "   'filepath_executable': '/user-environment/env/default/bin/cp2k-stm-sts-wfn',\n",
       "   'label': 'stm-1.5.0',\n",
       "   'prepend_text': '#SBATCH --uenv=cp2k-spm-tools/1.5.0:1658742098\\n#SBATCH --view=default\\n# set environment\\nexport MPICH_MALLOC_FALLBACK=1\\nexport OMP_NUM_THREADS=$((SLURM_CPUS_PER_TASK - 1))\\nexport MPICH_GPU_SUPPORT_ENABLED=0\\nulimit -s unlimited\\n',\n",
       "   'use_double_quotes': False},\n",
       "  'python': {'append_text': ' ',\n",
       "   'computer': 'daint.alps',\n",
       "   'default_calc_job_plugin': 'pythonjob.pythonjob',\n",
       "   'description': 'python at daint alps',\n",
       "   'filepath_executable': '/users/cscsusername/miniconda3/envs/py39/bin/python',\n",
       "   'label': 'python-py39',\n",
       "   'prepend_text': 'conda activate py39\\nexport MPICH_GPU_SUPPORT_ENABLED=0\\n',\n",
       "   'use_double_quotes': False},\n",
       "  'pw': {'append_text': ' ',\n",
       "   'computer': 'daint.alps',\n",
       "   'default_calc_job_plugin': 'quantumespresso.pw',\n",
       "   'description': 'pw.x 7.4:v2',\n",
       "   'filepath_executable': '/user-environment/env/default/bin/pw.x',\n",
       "   'label': 'pw-7.4:v2',\n",
       "   'prepend_text': '#SBATCH --uenv=quantumespresso/v7.4:v2\\n# set environment\\nexport MPICH_GPU_SUPPORT_ENABLED=1\\nexport MPICH_SMP_SINGLE_COPY_MODE=xpmem\\nexport MPICH_MALLOC_FALLBACK=1\\nexport OMP_NUM_THREADS=$((SLURM_CPUS_PER_TASK - 1))\\nexport OMP_PLACES=threads\\nulimit -s unlimited\\n',\n",
       "   'use_double_quotes': False},\n",
       "  'pp': {'append_text': ' ',\n",
       "   'computer': 'daint.alps',\n",
       "   'default_calc_job_plugin': 'quantumespresso.pp',\n",
       "   'description': 'pp.x 7.4:v2',\n",
       "   'filepath_executable': '/user-environment/env/default/bin/pp.x',\n",
       "   'label': 'pp-7.4:v2',\n",
       "   'prepend_text': '#SBATCH --uenv=quantumespresso/v7.4:v2\\n# set environment\\nexport MPICH_GPU_SUPPORT_ENABLED=1\\nexport MPICH_SMP_SINGLE_COPY_MODE=xpmem\\nexport MPICH_MALLOC_FALLBACK=1\\nexport OMP_NUM_THREADS=$((SLURM_CPUS_PER_TASK - 1))\\nexport OMP_PLACES=threads\\nulimit -s unlimited\\n',\n",
       "   'use_double_quotes': False},\n",
       "  'projwfc': {'append_text': ' ',\n",
       "   'computer': 'daint.alps',\n",
       "   'default_calc_job_plugin': 'quantumespresso.projwfc',\n",
       "   'description': 'projwfc.x 7.4:v2',\n",
       "   'filepath_executable': '/user-environment/env/default/bin/projwfc.x',\n",
       "   'label': 'projwfc-7.4:v2',\n",
       "   'prepend_text': '#SBATCH --uenv=quantumespresso/v7.4:v2\\n# set environment\\nexport MPICH_GPU_SUPPORT_ENABLED=1\\nexport MPICH_SMP_SINGLE_COPY_MODE=xpmem\\nexport MPICH_MALLOC_FALLBACK=1\\nexport OMP_NUM_THREADS=$((SLURM_CPUS_PER_TASK - 1))\\nexport OMP_PLACES=threads\\nulimit -s unlimited\\n',\n",
       "   'use_double_quotes': False},\n",
       "  'dos': {'append_text': ' ',\n",
       "   'computer': 'daint.alps',\n",
       "   'default_calc_job_plugin': 'quantumespresso.dos',\n",
       "   'description': 'dos.x 7.4:v2',\n",
       "   'filepath_executable': '/user-environment/env/default/bin/dos.x',\n",
       "   'label': 'dos-7.4:v2',\n",
       "   'prepend_text': '#SBATCH --uenv=quantumespresso/v7.4:v2\\n# set environment\\nexport MPICH_GPU_SUPPORT_ENABLED=1\\nexport MPICH_SMP_SINGLE_COPY_MODE=xpmem\\nexport MPICH_MALLOC_FALLBACK=1\\nexport OMP_NUM_THREADS=$((SLURM_CPUS_PER_TASK - 1))\\nexport OMP_PLACES=threads\\nulimit -s unlimited\\n',\n",
       "   'use_double_quotes': False},\n",
       "  'phonopy': {'append_text': ' ',\n",
       "   'computer': 'daint.alps',\n",
       "   'default_calc_job_plugin': 'phonopy.phonopy',\n",
       "   'description': 'phonopy at daint alps',\n",
       "   'filepath_executable': '/users/cscsusername/miniconda3/envs/phonopy/bin/phonopy',\n",
       "   'label': 'phonopy',\n",
       "   'prepend_text': 'export MPICH_MALLOC_FALLBACK=1\\nexport OMP_NUM_THREADS=$((SLURM_CPUS_PER_TASK - 1))\\nexport MPICH_GPU_SUPPORT_ENABLED=0\\nulimit -s unlimited\\nconda activate phonopy\\n',\n",
       "   'use_double_quotes': False},\n",
       "  'overlap': {'append_text': ' ',\n",
       "   'computer': 'daint.alps',\n",
       "   'default_calc_job_plugin': 'nanotech_empa.overlap',\n",
       "   'description': 'overlap 1.5.0:1658742098 on daint.alps from https://github.com/nanotech-empa/cp2k-spm-tools.git',\n",
       "   'filepath_executable': '/user-environment/env/default/bin/cp2k-overlap-from-wfns',\n",
       "   'label': 'overlap-1.5.0',\n",
       "   'prepend_text': '#SBATCH --uenv=cp2k-spm-tools/1.5.0:1658742098\\n#SBATCH --view=default\\n# set environment\\nexport MPICH_MALLOC_FALLBACK=1\\nexport OMP_NUM_THREADS=$((SLURM_CPUS_PER_TASK - 1))\\nexport MPICH_GPU_SUPPORT_ENABLED=0\\nulimit -s unlimited\\n',\n",
       "   'use_double_quotes': 'False'},\n",
       "  'critic2': {'append_text': ' ',\n",
       "   'computer': 'daint.alps',\n",
       "   'default_calc_job_plugin': 'critic2',\n",
       "   'description': 'critic2 at daint alps',\n",
       "   'filepath_executable': '/users/cscsusername/critic2/build/src/critic2',\n",
       "   'label': 'critic2',\n",
       "   'prepend_text': 'export MPICH_GPU_SUPPORT_ENABLED=0',\n",
       "   'use_double_quotes': 'False'},\n",
       "  'cp2k': {'append_text': ' ',\n",
       "   'computer': 'daint.alps',\n",
       "   'default_calc_job_plugin': 'cp2k',\n",
       "   'description': 'cp2k 2024.3:v2 on daint.alps',\n",
       "   'filepath_executable': '/user-environment/env/cp2k/bin/cp2k.psmp',\n",
       "   'label': 'cp2k-2024.3:v2',\n",
       "   'prepend_text': '#SBATCH --uenv=cp2k/2024.3:v2\\n#SBATCH --view=cp2k\\n# set environment\\nexport CP2K_DATA_DIR=/users/cscsusername/src/cp2k/data\\nexport CUDA_CACHE_PATH=\"/dev/shm/$RANDOM\"\\nexport MPICH_GPU_SUPPORT_ENABLED=1\\nexport MPICH_MALLOC_FALLBACK=1\\nexport OMP_NUM_THREADS=$((SLURM_CPUS_PER_TASK - 1))\\nulimit -s unlimited\\n',\n",
       "   'use_double_quotes': 'False'}},\n",
       " 'custom_installations': None}"
      ]
     },
     "execution_count": 5,
     "metadata": {},
     "output_type": "execute_result"
    }
   ],
   "source": [
    "config"
   ]
  },
  {
   "cell_type": "code",
   "execution_count": 6,
   "id": "4908694d",
   "metadata": {},
   "outputs": [
    {
     "data": {
      "text/plain": [
       "{'computers': {'daint.alps_s1267': {'hide': True,\n",
       "   'rename': True,\n",
       "   'install': True}},\n",
       " 'codes': {'stm-1.5.0@daint.alps_s1267': {'rename': False, 'install': True},\n",
       "  'python-py39@daint.alps_s1267': {'rename': False, 'install': True},\n",
       "  'pw-7.4:v2@daint.alps_s1267': {'rename': False, 'install': True},\n",
       "  'pp-7.4:v2@daint.alps_s1267': {'rename': False, 'install': True},\n",
       "  'projwfc-7.4:v2@daint.alps_s1267': {'rename': False, 'install': True},\n",
       "  'dos-7.4:v2@daint.alps_s1267': {'rename': False, 'install': True},\n",
       "  'phonopy@daint.alps_s1267': {'rename': False, 'install': True},\n",
       "  'overlap-1.5.0@daint.alps_s1267': {'rename': False, 'install': True},\n",
       "  'critic2@daint.alps_s1267': {'rename': False, 'install': True},\n",
       "  'cp2k-2024.3:v2@daint.alps_s1267': {'rename': False, 'install': True}}}"
      ]
     },
     "execution_count": 6,
     "metadata": {},
     "output_type": "execute_result"
    }
   ],
   "source": [
    "updates_needed"
   ]
  },
  {
   "cell_type": "code",
   "execution_count": 7,
   "id": "6172a309",
   "metadata": {},
   "outputs": [
    {
     "ename": "NameError",
     "evalue": "name 'configure_command' is not defined",
     "output_type": "error",
     "traceback": [
      "\u001b[0;31m---------------------------------------------------------------------------\u001b[0m",
      "\u001b[0;31mNameError\u001b[0m                                 Traceback (most recent call last)",
      "\u001b[0;32m/tmp/ipykernel_27180/3992551950.py\u001b[0m in \u001b[0;36m<cell line: 1>\u001b[0;34m()\u001b[0m\n\u001b[0;32m----> 1\u001b[0;31m \u001b[0msubprocess\u001b[0m\u001b[0;34m.\u001b[0m\u001b[0mrun\u001b[0m\u001b[0;34m(\u001b[0m\u001b[0mconfigure_command\u001b[0m\u001b[0;34m,\u001b[0m \u001b[0mcapture_output\u001b[0m\u001b[0;34m=\u001b[0m\u001b[0;32mTrue\u001b[0m\u001b[0;34m,\u001b[0m \u001b[0mtext\u001b[0m\u001b[0;34m=\u001b[0m\u001b[0;32mTrue\u001b[0m\u001b[0;34m,\u001b[0m \u001b[0mcheck\u001b[0m\u001b[0;34m=\u001b[0m\u001b[0;32mTrue\u001b[0m\u001b[0;34m)\u001b[0m\u001b[0;34m\u001b[0m\u001b[0;34m\u001b[0m\u001b[0m\n\u001b[0m",
      "\u001b[0;31mNameError\u001b[0m: name 'configure_command' is not defined"
     ]
    }
   ],
   "source": [
    "subprocess.run(configure_command, capture_output=True, text=True, check=True)"
   ]
  },
  {
   "cell_type": "code",
   "execution_count": null,
   "id": "7d231cd5",
   "metadata": {},
   "outputs": [],
   "source": [
    "a={}"
   ]
  },
  {
   "cell_type": "code",
   "execution_count": null,
   "id": "e6086ae1",
   "metadata": {},
   "outputs": [],
   "source": [
    "a.setdefault('b',{})['c']=12"
   ]
  },
  {
   "cell_type": "code",
   "execution_count": null,
   "id": "418ce1dc",
   "metadata": {},
   "outputs": [],
   "source": [
    "a.setdefault('b',{})['d']=13"
   ]
  },
  {
   "cell_type": "code",
   "execution_count": null,
   "id": "43b59693",
   "metadata": {},
   "outputs": [],
   "source": [
    "a"
   ]
  },
  {
   "cell_type": "code",
   "execution_count": null,
   "id": "c7f45c93",
   "metadata": {},
   "outputs": [],
   "source": [
    "a=[\"\"]+['asa','besa']"
   ]
  },
  {
   "cell_type": "code",
   "execution_count": null,
   "id": "fabc5d32",
   "metadata": {},
   "outputs": [],
   "source": [
    "a"
   ]
  },
  {
   "cell_type": "code",
   "execution_count": null,
   "id": "6998f047",
   "metadata": {},
   "outputs": [],
   "source": [
    "'-as-'.join(['1','2','3'])"
   ]
  },
  {
   "cell_type": "code",
   "execution_count": null,
   "id": "c9aa6bce",
   "metadata": {},
   "outputs": [],
   "source": []
  }
 ],
 "metadata": {
  "kernelspec": {
   "display_name": "Python 3 (ipykernel)",
   "language": "python",
   "name": "python3"
  },
  "language_info": {
   "codemirror_mode": {
    "name": "ipython",
    "version": 3
   },
   "file_extension": ".py",
   "mimetype": "text/x-python",
   "name": "python",
   "nbconvert_exporter": "python",
   "pygments_lexer": "ipython3",
   "version": "3.9.13"
  }
 },
 "nbformat": 4,
 "nbformat_minor": 5
}
