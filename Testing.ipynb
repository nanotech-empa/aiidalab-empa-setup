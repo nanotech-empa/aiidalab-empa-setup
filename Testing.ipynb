{
 "cells": [
  {
   "cell_type": "code",
   "execution_count": 1,
   "id": "c2b206f8",
   "metadata": {},
   "outputs": [],
   "source": [
    "import ipywidgets as ipw\n",
    "import subprocess"
   ]
  },
  {
   "cell_type": "code",
   "execution_count": 2,
   "id": "f33e7fb0",
   "metadata": {},
   "outputs": [],
   "source": [
    "from utils.control import *"
   ]
  },
  {
   "cell_type": "code",
   "execution_count": 3,
   "id": "074b393e",
   "metadata": {},
   "outputs": [],
   "source": [
    "msg,updates_needed,config = check_for_updates()"
   ]
  },
  {
   "cell_type": "code",
   "execution_count": 4,
   "id": "4908694d",
   "metadata": {},
   "outputs": [
    {
     "data": {
      "text/plain": [
       "{'ssh_config': {'rename': True, 'hosts': ['daint.alps']},\n",
       " 'codes': {'cp2k': {'rename': '5'}}}"
      ]
     },
     "execution_count": 4,
     "metadata": {},
     "output_type": "execute_result"
    }
   ],
   "source": [
    "updates_needed"
   ]
  },
  {
   "cell_type": "code",
   "execution_count": 5,
   "id": "f2e7dc4d",
   "metadata": {},
   "outputs": [
    {
     "name": "stdout",
     "output_type": "stream",
     "text": [
      "✅ Renamed /home/jovyan/.ssh/config → /home/jovyan/.ssh/202502191912_config\n",
      "✅ Created new SSH config at /home/jovyan/.ssh/config\n"
     ]
    }
   ],
   "source": [
    "if 'ssh_config' in updates_needed:\n",
    "    update_ssh_config(config_path,config['ssh_config'],'cpi',rename=updates_needed['ssh_config']['rename'])"
   ]
  },
  {
   "cell_type": "code",
   "execution_count": 6,
   "id": "d7da6a28",
   "metadata": {},
   "outputs": [
    {
     "name": "stdout",
     "output_type": "stream",
     "text": [
      "🔄 Adding ela.cscs.ch to known_hosts...\n",
      "🔄 Adding daint.alps.cscs.ch via ela.cscs.ch to known_hosts...\n"
     ]
    }
   ],
   "source": [
    "if 'ssh_config' in updates_needed:\n",
    "    set_ssh(config['computers'],updates_needed['ssh_config']['hosts'])"
   ]
  }
 ],
 "metadata": {
  "kernelspec": {
   "display_name": "Python 3 (ipykernel)",
   "language": "python",
   "name": "python3"
  },
  "language_info": {
   "codemirror_mode": {
    "name": "ipython",
    "version": 3
   },
   "file_extension": ".py",
   "mimetype": "text/x-python",
   "name": "python",
   "nbconvert_exporter": "python",
   "pygments_lexer": "ipython3",
   "version": "3.9.13"
  }
 },
 "nbformat": 4,
 "nbformat_minor": 5
}
