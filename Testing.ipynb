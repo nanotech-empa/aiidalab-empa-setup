{
 "cells": [
  {
   "cell_type": "code",
   "execution_count": 1,
   "id": "c2b206f8",
   "metadata": {},
   "outputs": [],
   "source": [
    "import ipywidgets as ipw\n",
    "import subprocess"
   ]
  },
  {
   "cell_type": "code",
   "execution_count": 2,
   "id": "f33e7fb0",
   "metadata": {},
   "outputs": [],
   "source": [
    "from utils.control import *"
   ]
  },
  {
   "cell_type": "code",
   "execution_count": 3,
   "id": "074b393e",
   "metadata": {},
   "outputs": [],
   "source": [
    "msg,updates_needed,config = check_for_updates('s1267')\n",
    "#tutto = check_for_updates()"
   ]
  },
  {
   "cell_type": "code",
   "execution_count": 4,
   "id": "5d212156",
   "metadata": {},
   "outputs": [
    {
     "data": {
      "text/plain": [
       "\"✅ The .ssh/config seems to be OK.<br>✅ Active AiiDA computers: ✅daint.alps_s1267<br>✅localhost<br>✅⬜ Not active AiiDA computers: ✅⬜202503061611_daint.alps_s1267<br>✅⬜202503070725_daint.alps_s1267<br>✅⬜Used_till_202502100738_daint.alps<br>✅⬜202503070715_daint.alps_s1267<br>✅⬜Used_till_202502100831_daint.alps<br>✅⬜daint.alps<br>✅⬜202503070700_daint.alps_s1267<br>✅⬜Used_till_202502120836_daint.alps<br>✅⬜202503061643_daint.alps_s1267<br>✅⬜Used_till_202502091226_daint.alps<br>✅⬜Used_till_202502120922_daint.alps<br>✅⬜202503070709_daint.alps_s1267<br>✅⬜Used_till_202502100724_daint.alps<br>✅⬜Used_till_202502120713_daint.alps<br>✅ Active AiiDA codes:<br> ✅ dos@daint.alps  PK: 15196<br>✅ pp@daint.alps  PK: 15194<br>✅ ph-7.4@localhost  PK: 10254<br>✅ projwfc-7.2@localhost  PK: 1819<br>✅ pw2wannier90-7.2@localhost  PK: 1829<br>✅ blabla@daint.alps  PK: 15197<br>✅ pw-7.4:v2@daint.alps_s1267  PK: 15304<br>✅ projwfc-7.4@localhost  PK: 10247<br>✅ dos-7.4:v2@daint.alps  PK: 15188<br>✅ pw2gw-7.2@localhost  PK: 1828<br>✅ phonopy@daint.alps  PK: 15189<br>✅ cp-7.2@localhost  PK: 1821<br>✅ matdyn-7.2@localhost  PK: 1823<br>✅ pw-7.4@localhost  PK: 10246<br>✅ cp2k@localhost  PK: 1<br>✅ projwfc-7.4:v2@daint.alps  PK: 15187<br>✅ pp-7.4:v2@daint.alps  PK: 15186<br>✅ epw-7.2@localhost  PK: 1822<br>✅ cp2k-2024.3:v2@daint.alps  PK: 15167<br>✅ hp-7.2@localhost  PK: 1832<br>✅ open_grid-7.2@localhost  PK: 1825<br>✅ pw-7.2@localhost  PK: 1818<br>✅ cp2k@daint.alps  PK: 15198<br>✅ pw2wannier90-7.4@localhost  PK: 10257<br>✅ stm-1.5.0@daint.alps_s1267  PK: 15302<br>✅ xspectra-7.2@localhost  PK: 1831<br>✅ dos-7.4:v2@daint.alps_s1267  PK: 15307<br>✅ critic2@daint.alps_s1267  PK: 15310<br>✅ q2r-7.2@localhost  PK: 1830<br>✅ overlap-1.5.0@daint.alps  PK: 15184<br>✅ pp-7.2@localhost  PK: 1827<br>✅ python-py39@daint.alps  PK: 15182<br>✅ dos-7.4@localhost  PK: 10248<br>✅ critic2@daint.alps  PK: 15190<br>✅ epw-7.4@localhost  PK: 10250<br>✅ phonopy@daint.alps_s1267  PK: 15308<br>✅ hp-7.4@localhost  PK: 10260<br>✅ stm@daint.alps  PK: 15191<br>✅ neb-7.4@localhost  PK: 10252<br>✅ pp-7.4:v2@daint.alps_s1267  PK: 15305<br>✅ xspectra-7.4@localhost  PK: 10259<br>✅ python@daint.alps  PK: 15192<br>✅ neb-7.2@localhost  PK: 1824<br>✅ dos-7.2@localhost  PK: 1820<br>✅ pw2gw-7.4@localhost  PK: 10256<br>✅ ph-7.2@localhost  PK: 1826<br>✅ open_grid-7.4@localhost  PK: 10253<br>✅ python-py39@daint.alps_s1267  PK: 15303<br>✅ stm@localhost  PK: 2<br>✅ pw@daint.alps  PK: 15193<br>✅ projwfc-7.4:v2@daint.alps_s1267  PK: 15306<br>✅ overlap-1.5.0@daint.alps_s1267  PK: 15309<br>✅ cp-7.4@localhost  PK: 10249<br>✅ q2r-7.4@localhost  PK: 10258<br>✅ pw-7.4:v2@daint.alps  PK: 15185<br>✅ stm-1.5.0@daint.alps  PK: 15183<br>✅ matdyn-7.4@localhost  PK: 10251<br>✅ projwfc@daint.alps  PK: 15195<br>✅ pp-7.4@localhost  PK: 10255<br>✅⬜ Not active AiiDA codes:<br> ✅⬜pw-7.4:v2@Used_till_202502120922_daint.alps PK: 15160<br>✅⬜projwfc-7.4:v2@Used_till_202502120922_daint.alps PK: 15162<br>✅⬜projwfc-7.4:v2@Used_till_202502100831_daint.alps PK: 14430<br>✅⬜stm-1.5.0@Used_till_202502120836_daint.alps PK: 15148<br>✅⬜Used_till_202503061524_dos-7.4:v2@daint.alps PK: 15173<br>✅⬜pp-7.4:v2@Used_till_202502100831_daint.alps PK: 14429<br>✅⬜pp-7.4:v2@Used_till_202502120836_daint.alps PK: 15151<br>✅⬜Used_till_202503061524_projwfc-7.4:v2@daint.alps PK: 15172<br>✅⬜Used_till_202503061531_critic2@daint.alps PK: 15181<br>✅⬜dos-7.4:v2@Used_till_202502091226_daint.alps PK: 14423<br>✅⬜critic2@Used_till_202502120836_daint.alps PK: 15156<br>✅⬜Used_till_202503061524_overlap-1.5.0@daint.alps PK: 15178<br>✅⬜Used_till_202502101830stm-1.5.0@Used_till_202502120713_daint.alps PK: 14434<br>✅⬜Used_till_202502111545_phonopy@Used_till_202502120713_daint.alps PK: 15127<br>✅⬜python-py39@Used_till_202502120836_daint.alps PK: 15155<br>✅⬜phonopy@Used_till_202502120836_daint.alps PK: 15154<br>✅⬜cp2k-2024.3:v2@Used_till_202502091226_daint.alps PK: 14418<br>✅⬜cp2k-2024.3:v2@Used_till_202502100831_daint.alps PK: 14425<br>✅⬜dos-7.4:v2@Used_till_202502120836_daint.alps PK: 15153<br>✅⬜cp2k-2024.3:v2@Used_till_202502120922_daint.alps PK: 15157<br>✅⬜Used_till_202503040814_python-py39@daint.alps PK: 15175<br>✅⬜overlap-1.5.0@Used_till_202502100831_daint.alps PK: 14427<br>✅⬜stm-1.5.0@Used_till_202502100831_daint.alps PK: 14426<br>✅⬜dos-7.4:v2@Used_till_202502120922_daint.alps PK: 15163<br>✅⬜python-py39@Used_till_202502120922_daint.alps PK: 15165<br>✅⬜stm-1.5.0@Used_till_202502120713_daint.alps PK: 14675<br>✅⬜stm-1.5.0@Used_till_202502120922_daint.alps PK: 15158<br>✅⬜projwfc-7.4:v2@Used_till_202502120836_daint.alps PK: 15152<br>✅⬜dos-7.4:v2@Used_till_202502120713_daint.alps PK: 14439<br>✅⬜Used_till_202503040820_python-py39@daint.alps PK: 15180<br>✅⬜pp-7.4:v2@Used_till_202502120922_daint.alps PK: 15161<br>✅⬜stm-1.5.0@Used_till_202502091226_daint.alps PK: 14419<br>✅⬜pw-7.4:v2@Used_till_202502120713_daint.alps PK: 14436<br>✅⬜overlap-1.5.0@Used_till_202502120836_daint.alps PK: 15149<br>✅⬜pp-7.4:v2@Used_till_202502120713_daint.alps PK: 14437<br>✅⬜dos-7.4:v2@Used_till_202502100831_daint.alps PK: 14431<br>✅⬜pw-7.4:v2@Used_till_202502100831_daint.alps PK: 14428<br>✅⬜overlap-1.5.0@Used_till_202502120713_daint.alps PK: 14780<br>✅⬜pw-7.4:v2@Used_till_202502120836_daint.alps PK: 15150<br>✅⬜overlap-1.5.0@Used_till_202502091226_daint.alps PK: 14424<br>✅⬜Used_till_202503040814_stm-1.5.0@daint.alps PK: 15168<br>✅⬜phonopy@Used_till_202502120713_daint.alps PK: 15128<br>✅⬜critic2@Used_till_202502120922_daint.alps PK: 15166<br>✅⬜Used_till_202503061524_pw-7.4:v2@daint.alps PK: 15170<br>✅⬜Used_till_202503040814_overlap-1.5.0@daint.alps PK: 15169<br>✅⬜phonopy@Used_till_202502120922_daint.alps PK: 15164<br>✅⬜cp2k-2024.3:v2@Used_till_202502120713_daint.alps PK: 14433<br>✅⬜stm@Used_till_202502120713_daint.alps PK: 14432<br>✅⬜Used_till_202503040814_phonopy@daint.alps PK: 15174<br>✅⬜Used_till_202503061524_phonopy@daint.alps PK: 15179<br>✅⬜overlap-1.5.0@Used_till_202502120922_daint.alps PK: 15159<br>✅⬜Used_till_202502101937_overlap-1.5.0@Used_till_202502120713_daint.alps PK: 14435<br>✅⬜Used_till_202503061524_stm-1.5.0@daint.alps PK: 15177<br>✅⬜pw-7.4:v2@Used_till_202502091226_daint.alps PK: 14420<br>✅⬜cp2k-2024.3:v2@Used_till_202502120836_daint.alps PK: 15147<br>✅⬜Used_till_202503040814_critic2@daint.alps PK: 15176<br>✅⬜Used_till_202503061524_pp-7.4:v2@daint.alps PK: 15171<br>✅⬜projwfc-7.4:v2@Used_till_202502091226_daint.alps PK: 14422<br>✅⬜pp-7.4:v2@Used_till_202502091226_daint.alps PK: 14421<br>✅⬜projwfc-7.4:v2@Used_till_202502120713_daint.alps PK: 14438<br>✅⬜ Computer 'daint.alps_s1267' is already installed in AiiDA, checking for its configuration.<br>✅ No differences found! The stored configuration matches AiiDA.<br>✅ Code stm-1.5.0@daint.alps_s1267 is already installed in AiiDA.<br>✅ Code python-py39@daint.alps_s1267 is already installed in AiiDA.<br>✅ Code pw-7.4:v2@daint.alps_s1267 is already installed in AiiDA.<br>✅ Code pp-7.4:v2@daint.alps_s1267 is already installed in AiiDA.<br>✅ Code projwfc-7.4:v2@daint.alps_s1267 is already installed in AiiDA.<br>✅ Code dos-7.4:v2@daint.alps_s1267 is already installed in AiiDA.<br>✅ Code phonopy@daint.alps_s1267 is already installed in AiiDA.<br>✅ Code overlap-1.5.0@daint.alps_s1267 is already installed in AiiDA.<br>✅ Code critic2@daint.alps_s1267 is already installed in AiiDA.<br>⬜ Code cp2k-2024.3:v2@daint.alps_s1267 will be installed  daint.alps_s1267 is present.<br>\""
      ]
     },
     "execution_count": 4,
     "metadata": {},
     "output_type": "execute_result"
    }
   ],
   "source": [
    " msg"
   ]
  },
  {
   "cell_type": "code",
   "execution_count": 5,
   "id": "dc22515c",
   "metadata": {},
   "outputs": [
    {
     "data": {
      "text/plain": [
       "{'python_version': '3.9.13',\n",
       " 'new_host_label': 'daint.alps',\n",
       " 'remotehost': 'daint.alps.cscs.ch',\n",
       " 'proxy': 'ela.cscs.ch',\n",
       " 'grants': {'daint.alps': ['s1267', 's1276', 's1295'], 'tigu': ['free']},\n",
       " 'computers': {'daint.alps': {'setup': {'description': 'daint.alps at CSCS',\n",
       "    'hostname': 'daint.alps.cscs.ch',\n",
       "    'label': 'daint.alps_cscsaccount',\n",
       "    'mpiprocs_per_machine': 256,\n",
       "    'mpirun_command': 'srun --cpu-bind=socket /users/cscsusername/bin/mps-wrapper.sh',\n",
       "    'prepend_text': '#SBATCH --ntasks-per-core=1\\n#SBATCH --hint=nomultithread\\n#SBATCH --no-requeue\\n#SBATCH --account=cscsaccount\\n',\n",
       "    'scheduler': 'core.slurm',\n",
       "    'shebang': '#!/bin/bash -l',\n",
       "    'transport': 'core.ssh',\n",
       "    'use_double_quotes': False,\n",
       "    'work_dir': '/capstor/scratch/cscs/{username}/aiida/',\n",
       "    'default_memory_per_machine': 268435456},\n",
       "   'config': {'allow_agent': True,\n",
       "    'compress': True,\n",
       "    'gss_auth': False,\n",
       "    'gss_deleg_creds': False,\n",
       "    'gss_host': 'daint.alps.cscs.ch',\n",
       "    'gss_kex': False,\n",
       "    'key_filename': '/home/jovyan/.ssh/cscs-key',\n",
       "    'key_policy': 'RejectPolicy',\n",
       "    'load_system_host_keys': True,\n",
       "    'look_for_keys': True,\n",
       "    'port': 22,\n",
       "    'proxy_command': '',\n",
       "    'proxy_jump': 'ela.cscs.ch',\n",
       "    'safe_interval': 30.0,\n",
       "    'timeout': 60,\n",
       "    'use_login_shell': True,\n",
       "    'username': 'cscsusername'}}},\n",
       " 'ssh_config': {'daint.alps.cscs.ch': {'hostname': 'daint.alps.cscs.ch',\n",
       "   'user': 'cscsusername',\n",
       "   'port': 22,\n",
       "   'proxy_jump': 'ela.cscs.ch',\n",
       "   'identity_file': '/home/jovyan/.ssh/cscs-key',\n",
       "   'server_alive_interval': 5},\n",
       "  'ela.cscs.ch': {'hostname': 'ela.cscs.ch',\n",
       "   'user': 'cscsusername',\n",
       "   'port': 22,\n",
       "   'identity_file': '/home/jovyan/.ssh/cscs-key'}},\n",
       " 'bashrc': '# Sample .bashrc for SuSE Linux\\n# Copyright (c) SuSE GmbH Nuernberg\\n\\n# There are 3 different types of shells in bash: the login shell, normal shell\\n# and interactive shell. Login shells read ~/.profile and interactive shells\\n# read ~/.bashrc; in our setup, /etc/profile sources ~/.bashrc - thus all\\n# settings made here will also take effect in a login shell.\\n#\\n# NOTE: It is recommended to make language settings in ~/.profile rather than\\n# here, since multilingual X sessions would not work properly if LANG is over-\\n# ridden in every subshell.\\n\\n# Some applications read the EDITOR variable to determine your favourite text\\n# editor. So uncomment the line below and enter the editor of your choice :-)\\n#export EDITOR=/usr/bin/vim\\n#export EDITOR=/usr/bin/mcedit\\n\\n# For some news readers it makes sense to specify the NEWSSERVER variable here\\n#export NEWSSERVER=your.news.server\\n\\n# If you want to use a Palm device with Linux, uncomment the two lines below.\\n# For some (older) Palm Pilots, you might need to set a lower baud rate\\n# e.g. 57600 or 38400; lowest is 9600 (very slow!)\\n#\\n#export PILOTPORT=/dev/pilot\\n#export PILOTRATE=115200\\n\\ntest -s ~/.alias && . ~/.alias || true\\n\\n# >>> conda initialize >>>\\n# !! Contents within this block are managed by conda init !!\\n__conda_setup=\"\"\\nif [ 126 -eq 0 ]; then\\n    eval \"\"\\nelse\\n    if [ -f /users/cscsusername/miniconda3/etc/profile.d/conda.sh ]; then\\n        . /users/cscsusername/miniconda3/etc/profile.d/conda.sh\\n    else\\n        export PATH=/users/cscsusername/miniconda3/bin:/opt/conda/bin:/usr/local/sbin:/usr/local/bin:/usr/sbin:/usr/bin:/sbin:/bin:/home/jovyan/.local/bin\\n    fi\\nfi\\nunset __conda_setup\\n# <<< conda initialize <<<\\n',\n",
       " 'codes': {'stm': {'append_text': ' ',\n",
       "   'computer': 'daint.alps',\n",
       "   'default_calc_job_plugin': 'nanotech_empa.stm',\n",
       "   'description': 'stm 1.5.0:1658742098 on daint.alps from https://github.com/nanotech-empa/cp2k-spm-tools.git',\n",
       "   'filepath_executable': '/user-environment/env/default/bin/cp2k-stm-sts-wfn',\n",
       "   'label': 'stm-1.5.0',\n",
       "   'prepend_text': '#SBATCH --uenv=cp2k-spm-tools/1.5.0:1658742098\\n#SBATCH --view=default\\n# set environment\\nexport MPICH_MALLOC_FALLBACK=1\\nexport OMP_NUM_THREADS=$((SLURM_CPUS_PER_TASK - 1))\\nexport MPICH_GPU_SUPPORT_ENABLED=0\\nulimit -s unlimited\\n',\n",
       "   'use_double_quotes': False},\n",
       "  'python': {'append_text': ' ',\n",
       "   'computer': 'daint.alps',\n",
       "   'default_calc_job_plugin': 'pythonjob.pythonjob',\n",
       "   'description': 'python at daint alps',\n",
       "   'filepath_executable': '/users/cscsusername/miniconda3/envs/py39/bin/python',\n",
       "   'label': 'python-py39',\n",
       "   'prepend_text': 'conda activate py39\\nexport MPICH_GPU_SUPPORT_ENABLED=0\\n',\n",
       "   'use_double_quotes': False},\n",
       "  'pw': {'append_text': ' ',\n",
       "   'computer': 'daint.alps',\n",
       "   'default_calc_job_plugin': 'quantumespresso.pw',\n",
       "   'description': 'pw.x 7.4:v2',\n",
       "   'filepath_executable': '/user-environment/env/default/bin/pw.x',\n",
       "   'label': 'pw-7.4:v2',\n",
       "   'prepend_text': '#SBATCH --uenv=quantumespresso/v7.4:v2\\n# set environment\\nexport MPICH_GPU_SUPPORT_ENABLED=1\\nexport MPICH_SMP_SINGLE_COPY_MODE=xpmem\\nexport MPICH_MALLOC_FALLBACK=1\\nexport OMP_NUM_THREADS=$((SLURM_CPUS_PER_TASK - 1))\\nexport OMP_PLACES=threads\\nulimit -s unlimited\\n',\n",
       "   'use_double_quotes': False},\n",
       "  'pp': {'append_text': ' ',\n",
       "   'computer': 'daint.alps',\n",
       "   'default_calc_job_plugin': 'quantumespresso.pp',\n",
       "   'description': 'pp.x 7.4:v2',\n",
       "   'filepath_executable': '/user-environment/env/default/bin/pp.x',\n",
       "   'label': 'pp-7.4:v2',\n",
       "   'prepend_text': '#SBATCH --uenv=quantumespresso/v7.4:v2\\n# set environment\\nexport MPICH_GPU_SUPPORT_ENABLED=1\\nexport MPICH_SMP_SINGLE_COPY_MODE=xpmem\\nexport MPICH_MALLOC_FALLBACK=1\\nexport OMP_NUM_THREADS=$((SLURM_CPUS_PER_TASK - 1))\\nexport OMP_PLACES=threads\\nulimit -s unlimited\\n',\n",
       "   'use_double_quotes': False},\n",
       "  'projwfc': {'append_text': ' ',\n",
       "   'computer': 'daint.alps',\n",
       "   'default_calc_job_plugin': 'quantumespresso.projwfc',\n",
       "   'description': 'projwfc.x 7.4:v2',\n",
       "   'filepath_executable': '/user-environment/env/default/bin/projwfc.x',\n",
       "   'label': 'projwfc-7.4:v2',\n",
       "   'prepend_text': '#SBATCH --uenv=quantumespresso/v7.4:v2\\n# set environment\\nexport MPICH_GPU_SUPPORT_ENABLED=1\\nexport MPICH_SMP_SINGLE_COPY_MODE=xpmem\\nexport MPICH_MALLOC_FALLBACK=1\\nexport OMP_NUM_THREADS=$((SLURM_CPUS_PER_TASK - 1))\\nexport OMP_PLACES=threads\\nulimit -s unlimited\\n',\n",
       "   'use_double_quotes': False},\n",
       "  'dos': {'append_text': ' ',\n",
       "   'computer': 'daint.alps',\n",
       "   'default_calc_job_plugin': 'quantumespresso.dos',\n",
       "   'description': 'dos.x 7.4:v2',\n",
       "   'filepath_executable': '/user-environment/env/default/bin/dos.x',\n",
       "   'label': 'dos-7.4:v2',\n",
       "   'prepend_text': '#SBATCH --uenv=quantumespresso/v7.4:v2\\n# set environment\\nexport MPICH_GPU_SUPPORT_ENABLED=1\\nexport MPICH_SMP_SINGLE_COPY_MODE=xpmem\\nexport MPICH_MALLOC_FALLBACK=1\\nexport OMP_NUM_THREADS=$((SLURM_CPUS_PER_TASK - 1))\\nexport OMP_PLACES=threads\\nulimit -s unlimited\\n',\n",
       "   'use_double_quotes': False},\n",
       "  'phonopy': {'append_text': ' ',\n",
       "   'computer': 'daint.alps',\n",
       "   'default_calc_job_plugin': 'phonopy.phonopy',\n",
       "   'description': 'phonopy at daint alps',\n",
       "   'filepath_executable': '/users/cscsusername/miniconda3/envs/phonopy/bin/phonopy',\n",
       "   'label': 'phonopy',\n",
       "   'prepend_text': 'export MPICH_MALLOC_FALLBACK=1\\nexport OMP_NUM_THREADS=$((SLURM_CPUS_PER_TASK - 1))\\nexport MPICH_GPU_SUPPORT_ENABLED=0\\nulimit -s unlimited\\nconda activate phonopy\\n',\n",
       "   'use_double_quotes': False},\n",
       "  'overlap': {'append_text': ' ',\n",
       "   'computer': 'daint.alps',\n",
       "   'default_calc_job_plugin': 'nanotech_empa.overlap',\n",
       "   'description': 'overlap 1.5.0:1658742098 on daint.alps from https://github.com/nanotech-empa/cp2k-spm-tools.git',\n",
       "   'filepath_executable': '/user-environment/env/default/bin/cp2k-overlap-from-wfns',\n",
       "   'label': 'overlap-1.5.0',\n",
       "   'prepend_text': '#SBATCH --uenv=cp2k-spm-tools/1.5.0:1658742098\\n#SBATCH --view=default\\n# set environment\\nexport MPICH_MALLOC_FALLBACK=1\\nexport OMP_NUM_THREADS=$((SLURM_CPUS_PER_TASK - 1))\\nexport MPICH_GPU_SUPPORT_ENABLED=0\\nulimit -s unlimited\\n',\n",
       "   'use_double_quotes': 'False'},\n",
       "  'critic2': {'append_text': ' ',\n",
       "   'computer': 'daint.alps',\n",
       "   'default_calc_job_plugin': 'critic2',\n",
       "   'description': 'critic2 at daint alps',\n",
       "   'filepath_executable': '/users/cscsusername/critic2/build/src/critic2',\n",
       "   'label': 'critic2',\n",
       "   'prepend_text': 'export MPICH_GPU_SUPPORT_ENABLED=0',\n",
       "   'use_double_quotes': 'False'},\n",
       "  'cp2k': {'append_text': ' ',\n",
       "   'computer': 'daint.alps',\n",
       "   'default_calc_job_plugin': 'cp2k',\n",
       "   'description': 'cp2k 2024.3:v2 on daint.alps',\n",
       "   'filepath_executable': '/user-environment/env/cp2k/bin/cp2k.psmp',\n",
       "   'label': 'cp2k-2024.3:v2',\n",
       "   'prepend_text': '#SBATCH --uenv=cp2k/2024.3:v2\\n#SBATCH --view=cp2k\\n# set environment\\nexport CP2K_DATA_DIR=/users/cscsusername/src/cp2k/data\\nexport CUDA_CACHE_PATH=\"/dev/shm/$RANDOM\"\\nexport MPICH_GPU_SUPPORT_ENABLED=1\\nexport MPICH_MALLOC_FALLBACK=1\\nexport OMP_NUM_THREADS=$((SLURM_CPUS_PER_TASK - 1))\\nulimit -s unlimited\\n',\n",
       "   'use_double_quotes': 'False'}},\n",
       " 'custom_installations': None}"
      ]
     },
     "execution_count": 5,
     "metadata": {},
     "output_type": "execute_result"
    }
   ],
   "source": [
    "config"
   ]
  },
  {
   "cell_type": "code",
   "execution_count": 6,
   "id": "4908694d",
   "metadata": {},
   "outputs": [
    {
     "data": {
      "text/plain": [
       "{'codes': {'cp2k-2024.3:v2@daint.alps_s1267': {'rename': False,\n",
       "   'install': True}}}"
      ]
     },
     "execution_count": 6,
     "metadata": {},
     "output_type": "execute_result"
    }
   ],
   "source": [
    "updates_needed"
   ]
  },
  {
   "cell_type": "code",
   "execution_count": null,
   "id": "fdc2f035",
   "metadata": {},
   "outputs": [],
   "source": []
  }
 ],
 "metadata": {
  "kernelspec": {
   "display_name": "Python 3 (ipykernel)",
   "language": "python",
   "name": "python3"
  },
  "language_info": {
   "codemirror_mode": {
    "name": "ipython",
    "version": 3
   },
   "file_extension": ".py",
   "mimetype": "text/x-python",
   "name": "python",
   "nbconvert_exporter": "python",
   "pygments_lexer": "ipython3",
   "version": "3.9.13"
  }
 },
 "nbformat": 4,
 "nbformat_minor": 5
}
